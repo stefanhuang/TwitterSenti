{
 "cells": [
  {
   "cell_type": "code",
   "execution_count": 9,
   "metadata": {
    "collapsed": false
   },
   "outputs": [],
   "source": [
    "import csv\n",
    "testA = []\n",
    "\n",
    "scorefile = \"Exercise2_data/twitter-test-A.tsv\"\n",
    "goldscorefile = \"test/SemEval2014-task9-test-A-gold-NEED-TWEET-DOWNLOAD.txt\"\n",
    "# scorefile = \"Exercise2_data/twitter-test-A.tsv\"\n",
    "with open(scorefile) as tsvfile:\n",
    "    tsvreader = csv.reader(tsvfile, delimiter=\"\\t\")\n",
    "    for line in tsvreader:\n",
    "        tid = line[0]\n",
    "        uid = line[1]\n",
    "        start = line[2]\n",
    "        stop = line[3]\n",
    "        tweet = line[5] \n",
    "        with open(goldscorefile) as tsvfile:\n",
    "            gtsvreader = csv.reader(tsvfile, delimiter=\"\\t\")\n",
    "            for gline in gtsvreader:\n",
    "                gid = gline[0]\n",
    "                gstart = gline[2]\n",
    "                gstop = gline[3]\n",
    "                if tid==gid and start==gstart and stop==gstop:\n",
    "                    lbl = gline[4]\n",
    "                    testA.append((tid, uid, start, stop, lbl, tweet))\n",
    "                    break  "
   ]
  },
  {
   "cell_type": "code",
   "execution_count": 10,
   "metadata": {
    "collapsed": false
   },
   "outputs": [
    {
     "data": {
      "text/plain": [
       "[('218775148495515649',\n",
       "  '111114',\n",
       "  '4',\n",
       "  '4',\n",
       "  'positive',\n",
       "  'Musical awareness: Great Big Beautiful Tomorrow has an ending, Now is the time does not'),\n",
       " ('258965201766998017',\n",
       "  '111116',\n",
       "  '17',\n",
       "  '17',\n",
       "  'negative',\n",
       "  \"On Radio786 100.4fm 7:10 Fri Oct 19 Labour analyst Shawn Hattingh: Cosatu's role in the context of unrest in the mining http://t.co/46pjzzl6\"),\n",
       " ('262926411352903682',\n",
       "  '111118',\n",
       "  '13',\n",
       "  '13',\n",
       "  'negative',\n",
       "  \"Kapan sih lo ngebuktiin,jan ngomong doang Susah Susah.usaha Aja blm udh nyerah,inget.if you never try you'll never know.cowok kok gentle bgt\"),\n",
       " ('262926411352903682',\n",
       "  '111119',\n",
       "  '16',\n",
       "  '16',\n",
       "  'negative',\n",
       "  \"Kapan sih lo ngebuktiin,jan ngomong doang Susah Susah.usaha Aja blm udh nyerah,inget.if you never try you'll never know.cowok kok gentle bgt\"),\n",
       " ('171874368908050432',\n",
       "  '111122',\n",
       "  '0',\n",
       "  '0',\n",
       "  'negative',\n",
       "  'Excuse the connectivity of this live stream, from Baba Amr, so many activists using only one Sat Modem. LIVE http://t.co/U283IhZ5 #Homs'),\n",
       " ('256010056942903296',\n",
       "  '111124',\n",
       "  '2',\n",
       "  '2',\n",
       "  'positive',\n",
       "  'Show your LOVE for your local field &amp; it might win an award!  Gallagher Park #Bedlington current 4th in National Award http://t.co/WeiMDtQt'),\n",
       " ('256010056942903296',\n",
       "  '111125',\n",
       "  '9',\n",
       "  '10',\n",
       "  'positive',\n",
       "  'Show your LOVE for your local field &amp; it might win an award!  Gallagher Park #Bedlington current 4th in National Award http://t.co/WeiMDtQt'),\n",
       " ('256010056942903296',\n",
       "  '111126',\n",
       "  '12',\n",
       "  '12',\n",
       "  'positive',\n",
       "  'Show your LOVE for your local field &amp; it might win an award!  Gallagher Park #Bedlington current 4th in National Award http://t.co/WeiMDtQt'),\n",
       " ('261776619146985472',\n",
       "  '111129',\n",
       "  '15',\n",
       "  '15',\n",
       "  'positive',\n",
       "  '@firecore Can you tell me when an update for the Apple TV 3rd gen becomes available? The missing update holds me back from buying #appletv3'),\n",
       " ('261776619146985472',\n",
       "  '111130',\n",
       "  '17',\n",
       "  '17',\n",
       "  'negative',\n",
       "  '@firecore Can you tell me when an update for the Apple TV 3rd gen becomes available? The missing update holds me back from buying #appletv3')]"
      ]
     },
     "execution_count": 10,
     "metadata": {},
     "output_type": "execute_result"
    }
   ],
   "source": [
    "testA[0:10]"
   ]
  },
  {
   "cell_type": "code",
   "execution_count": 11,
   "metadata": {
    "collapsed": false
   },
   "outputs": [
    {
     "ename": "TypeError",
     "evalue": "'newline' is an invalid keyword argument for this function",
     "output_type": "error",
     "traceback": [
      "\u001b[0;31m---------------------------------------------------------------------------\u001b[0m",
      "\u001b[0;31mTypeError\u001b[0m                                 Traceback (most recent call last)",
      "\u001b[0;32m<ipython-input-11-e6ff5578ca6c>\u001b[0m in \u001b[0;36m<module>\u001b[0;34m()\u001b[0m\n\u001b[1;32m      1\u001b[0m \u001b[0;32mwith\u001b[0m \u001b[0mopen\u001b[0m \u001b[0;34m(\u001b[0m\u001b[0;34m'test-A-gold.txt'\u001b[0m\u001b[0;34m,\u001b[0m\u001b[0;34m'w'\u001b[0m\u001b[0;34m)\u001b[0m \u001b[0;32mas\u001b[0m \u001b[0mf\u001b[0m\u001b[0;34m:\u001b[0m\u001b[0;34m\u001b[0m\u001b[0m\n\u001b[0;32m----> 2\u001b[0;31m     \u001b[0mwriter\u001b[0m \u001b[0;34m=\u001b[0m \u001b[0mcsv\u001b[0m\u001b[0;34m.\u001b[0m\u001b[0mwriter\u001b[0m\u001b[0;34m(\u001b[0m\u001b[0mf\u001b[0m\u001b[0;34m,\u001b[0m \u001b[0mdelimiter\u001b[0m\u001b[0;34m=\u001b[0m\u001b[0;34m'\\t'\u001b[0m\u001b[0;34m,\u001b[0m \u001b[0mnewline\u001b[0m\u001b[0;34m=\u001b[0m\u001b[0;34m'\\n'\u001b[0m\u001b[0;34m)\u001b[0m\u001b[0;34m\u001b[0m\u001b[0m\n\u001b[0m\u001b[1;32m      3\u001b[0m     \u001b[0;32mfor\u001b[0m \u001b[0mline\u001b[0m \u001b[0;32min\u001b[0m \u001b[0mtestA\u001b[0m\u001b[0;34m:\u001b[0m\u001b[0;34m\u001b[0m\u001b[0m\n\u001b[1;32m      4\u001b[0m         \u001b[0mwriter\u001b[0m\u001b[0;34m.\u001b[0m\u001b[0mwriterow\u001b[0m\u001b[0;34m(\u001b[0m\u001b[0mline\u001b[0m\u001b[0;34m)\u001b[0m\u001b[0;34m\u001b[0m\u001b[0m\n",
      "\u001b[0;31mTypeError\u001b[0m: 'newline' is an invalid keyword argument for this function"
     ]
    }
   ],
   "source": [
    "with open ('test-A-gold.txt','w') as f:\n",
    "    writer = csv.writer(f, delimiter='\\t', newline='\\n')\n",
    "    for line in testA:\n",
    "        writer.writerow(line)"
   ]
  }
 ],
 "metadata": {
  "kernelspec": {
   "display_name": "Python 2",
   "language": "python",
   "name": "python2"
  },
  "language_info": {
   "codemirror_mode": {
    "name": "ipython",
    "version": 2
   },
   "file_extension": ".py",
   "mimetype": "text/x-python",
   "name": "python",
   "nbconvert_exporter": "python",
   "pygments_lexer": "ipython2",
   "version": "2.7.11"
  }
 },
 "nbformat": 4,
 "nbformat_minor": 0
}
